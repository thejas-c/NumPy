{
  "nbformat": 4,
  "nbformat_minor": 0,
  "metadata": {
    "colab": {
      "provenance": []
    },
    "kernelspec": {
      "name": "python3",
      "display_name": "Python 3"
    },
    "language_info": {
      "name": "python"
    }
  },
  "cells": [
    {
      "cell_type": "code",
      "execution_count": null,
      "metadata": {
        "id": "BxM0X2iuQmMj"
      },
      "outputs": [],
      "source": [
        "import numpy as np"
      ]
    },
    {
      "cell_type": "code",
      "source": [
        "print(np.__version__)"
      ],
      "metadata": {
        "colab": {
          "base_uri": "https://localhost:8080/"
        },
        "id": "jjujP3UJQ6wK",
        "outputId": "72ecc319-03a4-4124-a2ac-3ea138b45c06"
      },
      "execution_count": null,
      "outputs": [
        {
          "output_type": "stream",
          "name": "stdout",
          "text": [
            "1.26.4\n"
          ]
        }
      ]
    },
    {
      "cell_type": "code",
      "source": [
        "A1=np.array([1,2,3,4])\n",
        "print(A1)"
      ],
      "metadata": {
        "colab": {
          "base_uri": "https://localhost:8080/"
        },
        "id": "o0owaG5yRCfy",
        "outputId": "4992ccd6-b6cd-4439-b22c-9efb767d9d45"
      },
      "execution_count": null,
      "outputs": [
        {
          "output_type": "stream",
          "name": "stdout",
          "text": [
            "[1 2 3 4]\n"
          ]
        }
      ]
    },
    {
      "cell_type": "code",
      "source": [
        "type(A1)"
      ],
      "metadata": {
        "colab": {
          "base_uri": "https://localhost:8080/"
        },
        "id": "oxbRtO1HRL-q",
        "outputId": "44de430e-80d6-497f-e382-076447e2661e"
      },
      "execution_count": null,
      "outputs": [
        {
          "output_type": "execute_result",
          "data": {
            "text/plain": [
              "numpy.ndarray"
            ]
          },
          "metadata": {},
          "execution_count": 4
        }
      ]
    },
    {
      "cell_type": "code",
      "source": [
        "A1.shape"
      ],
      "metadata": {
        "colab": {
          "base_uri": "https://localhost:8080/"
        },
        "id": "dtSJDODoRPPa",
        "outputId": "54960a66-f559-4f36-86cf-1bd6c524db6c"
      },
      "execution_count": null,
      "outputs": [
        {
          "output_type": "execute_result",
          "data": {
            "text/plain": [
              "(4,)"
            ]
          },
          "metadata": {},
          "execution_count": 5
        }
      ]
    },
    {
      "cell_type": "code",
      "source": [
        "A1.size"
      ],
      "metadata": {
        "colab": {
          "base_uri": "https://localhost:8080/"
        },
        "id": "Dc2XdpikRakJ",
        "outputId": "bd4020dd-8cdf-43ff-d8c7-661376ba2196"
      },
      "execution_count": null,
      "outputs": [
        {
          "output_type": "execute_result",
          "data": {
            "text/plain": [
              "4"
            ]
          },
          "metadata": {},
          "execution_count": 6
        }
      ]
    },
    {
      "cell_type": "code",
      "source": [
        "A1.ndim"
      ],
      "metadata": {
        "colab": {
          "base_uri": "https://localhost:8080/"
        },
        "id": "rUbvn44uTLLR",
        "outputId": "5206833d-b2ed-4dc9-9ec3-55928b74c453"
      },
      "execution_count": null,
      "outputs": [
        {
          "output_type": "execute_result",
          "data": {
            "text/plain": [
              "1"
            ]
          },
          "metadata": {},
          "execution_count": 5
        }
      ]
    },
    {
      "cell_type": "code",
      "source": [
        "A2=np.array([[1,2,3,4,5],[6,7,8,9,10]])\n",
        "print(A2)"
      ],
      "metadata": {
        "colab": {
          "base_uri": "https://localhost:8080/"
        },
        "id": "HkebIAEeReOB",
        "outputId": "fda6093f-541c-4187-af10-83ad655d6a99"
      },
      "execution_count": null,
      "outputs": [
        {
          "output_type": "stream",
          "name": "stdout",
          "text": [
            "[[ 1  2  3  4  5]\n",
            " [ 6  7  8  9 10]]\n"
          ]
        }
      ]
    },
    {
      "cell_type": "code",
      "source": [
        "type(A2)"
      ],
      "metadata": {
        "colab": {
          "base_uri": "https://localhost:8080/"
        },
        "id": "_AGEcNhaSP36",
        "outputId": "7aee9287-9181-40fd-9f5b-1efd6a992350"
      },
      "execution_count": null,
      "outputs": [
        {
          "output_type": "execute_result",
          "data": {
            "text/plain": [
              "numpy.ndarray"
            ]
          },
          "metadata": {},
          "execution_count": 9
        }
      ]
    },
    {
      "cell_type": "code",
      "source": [
        "A2.size"
      ],
      "metadata": {
        "colab": {
          "base_uri": "https://localhost:8080/"
        },
        "id": "Y0pK91aaSXwZ",
        "outputId": "869c8008-20ac-40d8-af01-cf928cc9584c"
      },
      "execution_count": null,
      "outputs": [
        {
          "output_type": "execute_result",
          "data": {
            "text/plain": [
              "10"
            ]
          },
          "metadata": {},
          "execution_count": 10
        }
      ]
    },
    {
      "cell_type": "code",
      "source": [
        "A2.shape"
      ],
      "metadata": {
        "colab": {
          "base_uri": "https://localhost:8080/"
        },
        "id": "PnlAfOnSSZq5",
        "outputId": "04af66bd-7dbf-4249-f5e8-6b98b7953007"
      },
      "execution_count": null,
      "outputs": [
        {
          "output_type": "execute_result",
          "data": {
            "text/plain": [
              "(2, 5)"
            ]
          },
          "metadata": {},
          "execution_count": 11
        }
      ]
    },
    {
      "cell_type": "code",
      "source": [
        "A2.ndim"
      ],
      "metadata": {
        "colab": {
          "base_uri": "https://localhost:8080/"
        },
        "id": "xQ0jWDUcSb0R",
        "outputId": "15c8de74-2086-45af-f237-2dcb8cf6c702"
      },
      "execution_count": null,
      "outputs": [
        {
          "output_type": "execute_result",
          "data": {
            "text/plain": [
              "2"
            ]
          },
          "metadata": {},
          "execution_count": 12
        }
      ]
    },
    {
      "cell_type": "code",
      "source": [
        "A3=np.array([[[1,2,3,],[4,5,6],[7,8,9]],[[10,11,12],[13,14,15],[16,17,18]]])\n",
        "print(A3)"
      ],
      "metadata": {
        "colab": {
          "base_uri": "https://localhost:8080/"
        },
        "id": "plI1Mum7ULUS",
        "outputId": "f05a46d9-e7ba-4dd0-dcc2-0752f9bd4bbf"
      },
      "execution_count": null,
      "outputs": [
        {
          "output_type": "stream",
          "name": "stdout",
          "text": [
            "[[[ 1  2  3]\n",
            "  [ 4  5  6]\n",
            "  [ 7  8  9]]\n",
            "\n",
            " [[10 11 12]\n",
            "  [13 14 15]\n",
            "  [16 17 18]]]\n"
          ]
        }
      ]
    },
    {
      "cell_type": "code",
      "source": [
        "type(A3)"
      ],
      "metadata": {
        "colab": {
          "base_uri": "https://localhost:8080/"
        },
        "id": "IiQOrlHXUYRh",
        "outputId": "66450a78-4f2a-4a57-bed0-8da6cfa60617"
      },
      "execution_count": null,
      "outputs": [
        {
          "output_type": "execute_result",
          "data": {
            "text/plain": [
              "numpy.ndarray"
            ]
          },
          "metadata": {},
          "execution_count": 12
        }
      ]
    },
    {
      "cell_type": "code",
      "source": [
        "A3.shape"
      ],
      "metadata": {
        "colab": {
          "base_uri": "https://localhost:8080/"
        },
        "id": "_NDHEoPcUbLa",
        "outputId": "8d3b285e-59d4-4871-b13f-a11d8e20f731"
      },
      "execution_count": null,
      "outputs": [
        {
          "output_type": "execute_result",
          "data": {
            "text/plain": [
              "(2, 3, 3)"
            ]
          },
          "metadata": {},
          "execution_count": 17
        }
      ]
    },
    {
      "cell_type": "code",
      "source": [
        "A3.size"
      ],
      "metadata": {
        "colab": {
          "base_uri": "https://localhost:8080/"
        },
        "id": "En6xGh6_UdbZ",
        "outputId": "1b765e43-8084-4337-bfce-990f0610f9f9"
      },
      "execution_count": null,
      "outputs": [
        {
          "output_type": "execute_result",
          "data": {
            "text/plain": [
              "18"
            ]
          },
          "metadata": {},
          "execution_count": 14
        }
      ]
    },
    {
      "cell_type": "code",
      "source": [
        "A3.ndim"
      ],
      "metadata": {
        "id": "ZfVhOHXyUfEB",
        "outputId": "4219d21d-7d4f-4f3d-9b72-aacbb2719d6b",
        "colab": {
          "base_uri": "https://localhost:8080/"
        }
      },
      "execution_count": null,
      "outputs": [
        {
          "output_type": "execute_result",
          "data": {
            "text/plain": [
              "3"
            ]
          },
          "metadata": {},
          "execution_count": 15
        }
      ]
    },
    {
      "cell_type": "code",
      "source": [
        "A4=np.array([[[[1,2,3],[4,5,6],[7,8,9]]],[[[1,2,3],[4,5,6],[7,8,9]]]])\n",
        "print(A4)"
      ],
      "metadata": {
        "id": "MjQiTQf5UjHB",
        "colab": {
          "base_uri": "https://localhost:8080/"
        },
        "outputId": "8b9e04f1-691b-41c2-f0c4-629e4cb06577"
      },
      "execution_count": null,
      "outputs": [
        {
          "output_type": "stream",
          "name": "stdout",
          "text": [
            "[[[[1 2 3]\n",
            "   [4 5 6]\n",
            "   [7 8 9]]]\n",
            "\n",
            "\n",
            " [[[1 2 3]\n",
            "   [4 5 6]\n",
            "   [7 8 9]]]]\n"
          ]
        }
      ]
    },
    {
      "cell_type": "code",
      "source": [
        "A4.shape"
      ],
      "metadata": {
        "colab": {
          "base_uri": "https://localhost:8080/"
        },
        "id": "10oTpBcRWaGo",
        "outputId": "827e89f5-9e42-4b35-dcbd-22a148b6cc73"
      },
      "execution_count": null,
      "outputs": [
        {
          "output_type": "execute_result",
          "data": {
            "text/plain": [
              "(1, 1, 3, 3)"
            ]
          },
          "metadata": {},
          "execution_count": 8
        }
      ]
    },
    {
      "cell_type": "code",
      "source": [
        "A4.size"
      ],
      "metadata": {
        "colab": {
          "base_uri": "https://localhost:8080/"
        },
        "id": "WKqyZLQjWipm",
        "outputId": "520d0a79-8870-4e4f-ec17-ec3cc20741ae"
      },
      "execution_count": null,
      "outputs": [
        {
          "output_type": "execute_result",
          "data": {
            "text/plain": [
              "9"
            ]
          },
          "metadata": {},
          "execution_count": 9
        }
      ]
    },
    {
      "cell_type": "code",
      "source": [
        "A4.ndim"
      ],
      "metadata": {
        "colab": {
          "base_uri": "https://localhost:8080/"
        },
        "id": "ixRXxNnzWlme",
        "outputId": "00d9e8af-e1b6-44ee-c0fd-b3fecef6f723"
      },
      "execution_count": null,
      "outputs": [
        {
          "output_type": "execute_result",
          "data": {
            "text/plain": [
              "4"
            ]
          },
          "metadata": {},
          "execution_count": 10
        }
      ]
    },
    {
      "cell_type": "code",
      "source": [
        "#zero array\n",
        "A5=np.zeros(2)\n",
        "print(A5)"
      ],
      "metadata": {
        "colab": {
          "base_uri": "https://localhost:8080/"
        },
        "id": "jj1Zv-I-Wnle",
        "outputId": "462ae7dc-067d-4da3-b088-0450ceb88524"
      },
      "execution_count": null,
      "outputs": [
        {
          "output_type": "stream",
          "name": "stdout",
          "text": [
            "[0. 0.]\n"
          ]
        }
      ]
    },
    {
      "cell_type": "code",
      "source": [
        "A6=np.zeros((3,3),int)\n",
        "print(A6)"
      ],
      "metadata": {
        "colab": {
          "base_uri": "https://localhost:8080/"
        },
        "id": "CoThvUh4bp9W",
        "outputId": "eee6d049-c54b-4ec9-dfb0-91803af04095"
      },
      "execution_count": null,
      "outputs": [
        {
          "output_type": "stream",
          "name": "stdout",
          "text": [
            "[[0 0 0]\n",
            " [0 0 0]\n",
            " [0 0 0]]\n"
          ]
        }
      ]
    },
    {
      "cell_type": "code",
      "source": [
        "A7=np.zeros((2,3,3),int)\n",
        "print(A6)"
      ],
      "metadata": {
        "colab": {
          "base_uri": "https://localhost:8080/"
        },
        "id": "cWJVPRISb_W9",
        "outputId": "2617ded8-7d14-49c7-bf52-94db411fac53"
      },
      "execution_count": null,
      "outputs": [
        {
          "output_type": "stream",
          "name": "stdout",
          "text": [
            "[[0 0 0]\n",
            " [0 0 0]\n",
            " [0 0 0]]\n"
          ]
        }
      ]
    },
    {
      "cell_type": "code",
      "source": [
        "#one array\n",
        "A8=np.ones(2)\n",
        "print(A5)"
      ],
      "metadata": {
        "colab": {
          "base_uri": "https://localhost:8080/"
        },
        "id": "iTgsbOysdna_",
        "outputId": "574779c4-2f6f-4d2b-f5e9-7048f4ec054b"
      },
      "execution_count": null,
      "outputs": [
        {
          "output_type": "stream",
          "name": "stdout",
          "text": [
            "[1. 1.]\n"
          ]
        }
      ]
    },
    {
      "cell_type": "code",
      "source": [
        "A9=np.ones([3,3],int)     #for ones we use square backet\n",
        "print(A9)"
      ],
      "metadata": {
        "colab": {
          "base_uri": "https://localhost:8080/"
        },
        "id": "RvQe9sQxd_IM",
        "outputId": "1d8f0ec1-867d-43fa-9a12-ac947df9da57"
      },
      "execution_count": null,
      "outputs": [
        {
          "output_type": "stream",
          "name": "stdout",
          "text": [
            "[[1 1 1]\n",
            " [1 1 1]\n",
            " [1 1 1]]\n"
          ]
        }
      ]
    },
    {
      "cell_type": "code",
      "source": [
        "from re import A\n",
        "#full array\n",
        "A10=np.full(2,5)\n",
        "print(A10)"
      ],
      "metadata": {
        "colab": {
          "base_uri": "https://localhost:8080/"
        },
        "id": "bDBHzRwOeKl8",
        "outputId": "e8a01baa-6e70-40ad-c6c5-353e89d114ca"
      },
      "execution_count": null,
      "outputs": [
        {
          "output_type": "stream",
          "name": "stdout",
          "text": [
            "[5 5]\n"
          ]
        }
      ]
    },
    {
      "cell_type": "code",
      "source": [
        "A11=np.full([3,3],5,dtype=float)     #for full we use square backet\n",
        "print(A11)"
      ],
      "metadata": {
        "colab": {
          "base_uri": "https://localhost:8080/"
        },
        "id": "mDmrkghufZFk",
        "outputId": "044f3fdf-3d2c-4bc1-a21b-9762243701d4"
      },
      "execution_count": null,
      "outputs": [
        {
          "output_type": "stream",
          "name": "stdout",
          "text": [
            "[[5. 5. 5.]\n",
            " [5. 5. 5.]\n",
            " [5. 5. 5.]]\n"
          ]
        }
      ]
    },
    {
      "cell_type": "code",
      "source": [
        "A12=np.full([3,3],6,dtype=float)\n",
        "print(A12)"
      ],
      "metadata": {
        "colab": {
          "base_uri": "https://localhost:8080/"
        },
        "id": "pHJlMufWfvhM",
        "outputId": "986db869-4f03-4eba-c285-fe696cb859f6"
      },
      "execution_count": null,
      "outputs": [
        {
          "output_type": "stream",
          "name": "stdout",
          "text": [
            "[[6. 6. 6.]\n",
            " [6. 6. 6.]\n",
            " [6. 6. 6.]]\n"
          ]
        }
      ]
    },
    {
      "cell_type": "code",
      "source": [
        "ad=np.add(A11,A12)\n",
        "print(ad)"
      ],
      "metadata": {
        "colab": {
          "base_uri": "https://localhost:8080/"
        },
        "id": "aigcISn1iTaq",
        "outputId": "8ecf8c38-62b4-402a-c547-4963ae7b6d2e"
      },
      "execution_count": null,
      "outputs": [
        {
          "output_type": "stream",
          "name": "stdout",
          "text": [
            "[[11. 11. 11.]\n",
            " [11. 11. 11.]\n",
            " [11. 11. 11.]]\n"
          ]
        }
      ]
    },
    {
      "cell_type": "code",
      "source": [
        "su=np.subtract(A11,A12)\n",
        "print(su)"
      ],
      "metadata": {
        "colab": {
          "base_uri": "https://localhost:8080/"
        },
        "id": "JH3ZMjX-ii1y",
        "outputId": "66fae489-d012-4da7-eacc-30c4e6962c36"
      },
      "execution_count": null,
      "outputs": [
        {
          "output_type": "stream",
          "name": "stdout",
          "text": [
            "[[-1. -1. -1.]\n",
            " [-1. -1. -1.]\n",
            " [-1. -1. -1.]]\n"
          ]
        }
      ]
    },
    {
      "cell_type": "code",
      "source": [
        "mu=np.multiply(A11,A12)\n",
        "print(mu)"
      ],
      "metadata": {
        "colab": {
          "base_uri": "https://localhost:8080/"
        },
        "id": "YeTCFar7ioMS",
        "outputId": "7cbf4d79-cadb-421a-f2f9-c677e1089b55"
      },
      "execution_count": null,
      "outputs": [
        {
          "output_type": "stream",
          "name": "stdout",
          "text": [
            "[[30. 30. 30.]\n",
            " [30. 30. 30.]\n",
            " [30. 30. 30.]]\n"
          ]
        }
      ]
    },
    {
      "cell_type": "code",
      "source": [
        "di=np.divide(A11,A12)\n",
        "print(di)"
      ],
      "metadata": {
        "colab": {
          "base_uri": "https://localhost:8080/"
        },
        "id": "JIjwyay1ix36",
        "outputId": "0d3472ba-5c67-4143-f43d-3eb53c8ea9db"
      },
      "execution_count": null,
      "outputs": [
        {
          "output_type": "stream",
          "name": "stdout",
          "text": [
            "[[0.83333333 0.83333333 0.83333333]\n",
            " [0.83333333 0.83333333 0.83333333]\n",
            " [0.83333333 0.83333333 0.83333333]]\n"
          ]
        }
      ]
    },
    {
      "cell_type": "code",
      "source": [
        "dimo=np.mod(A11,A12)\n",
        "print(dimo)"
      ],
      "metadata": {
        "colab": {
          "base_uri": "https://localhost:8080/"
        },
        "id": "FzymbE2gjF_L",
        "outputId": "93bfd582-c30c-407d-8caf-fd3cd16d57f0"
      },
      "execution_count": null,
      "outputs": [
        {
          "output_type": "stream",
          "name": "stdout",
          "text": [
            "[[5. 5. 5.]\n",
            " [5. 5. 5.]\n",
            " [5. 5. 5.]]\n"
          ]
        }
      ]
    },
    {
      "cell_type": "code",
      "source": [
        "po=np.power(A11,A12)\n",
        "print(po)"
      ],
      "metadata": {
        "colab": {
          "base_uri": "https://localhost:8080/"
        },
        "id": "qfR3zZtLjTE6",
        "outputId": "e5f2fa85-9e3c-4af5-8398-65516a91f604"
      },
      "execution_count": null,
      "outputs": [
        {
          "output_type": "stream",
          "name": "stdout",
          "text": [
            "[[15625. 15625. 15625.]\n",
            " [15625. 15625. 15625.]\n",
            " [15625. 15625. 15625.]]\n"
          ]
        }
      ]
    },
    {
      "cell_type": "code",
      "source": [
        "#print array with alternative elements for 3d\n",
        "np.full([2,7,8,9,6],[71,72,71,72,71,72],dtype=float)"
      ],
      "metadata": {
        "id": "dxC0XthKjqWK",
        "colab": {
          "base_uri": "https://localhost:8080/"
        },
        "outputId": "1ec57f01-02a4-4770-9a6b-3b8c5e0579af"
      },
      "execution_count": null,
      "outputs": [
        {
          "output_type": "execute_result",
          "data": {
            "text/plain": [
              "array([[[[[71., 72., 71., 72., 71., 72.],\n",
              "          [71., 72., 71., 72., 71., 72.],\n",
              "          [71., 72., 71., 72., 71., 72.],\n",
              "          ...,\n",
              "          [71., 72., 71., 72., 71., 72.],\n",
              "          [71., 72., 71., 72., 71., 72.],\n",
              "          [71., 72., 71., 72., 71., 72.]],\n",
              "\n",
              "         [[71., 72., 71., 72., 71., 72.],\n",
              "          [71., 72., 71., 72., 71., 72.],\n",
              "          [71., 72., 71., 72., 71., 72.],\n",
              "          ...,\n",
              "          [71., 72., 71., 72., 71., 72.],\n",
              "          [71., 72., 71., 72., 71., 72.],\n",
              "          [71., 72., 71., 72., 71., 72.]],\n",
              "\n",
              "         [[71., 72., 71., 72., 71., 72.],\n",
              "          [71., 72., 71., 72., 71., 72.],\n",
              "          [71., 72., 71., 72., 71., 72.],\n",
              "          ...,\n",
              "          [71., 72., 71., 72., 71., 72.],\n",
              "          [71., 72., 71., 72., 71., 72.],\n",
              "          [71., 72., 71., 72., 71., 72.]],\n",
              "\n",
              "         ...,\n",
              "\n",
              "         [[71., 72., 71., 72., 71., 72.],\n",
              "          [71., 72., 71., 72., 71., 72.],\n",
              "          [71., 72., 71., 72., 71., 72.],\n",
              "          ...,\n",
              "          [71., 72., 71., 72., 71., 72.],\n",
              "          [71., 72., 71., 72., 71., 72.],\n",
              "          [71., 72., 71., 72., 71., 72.]],\n",
              "\n",
              "         [[71., 72., 71., 72., 71., 72.],\n",
              "          [71., 72., 71., 72., 71., 72.],\n",
              "          [71., 72., 71., 72., 71., 72.],\n",
              "          ...,\n",
              "          [71., 72., 71., 72., 71., 72.],\n",
              "          [71., 72., 71., 72., 71., 72.],\n",
              "          [71., 72., 71., 72., 71., 72.]],\n",
              "\n",
              "         [[71., 72., 71., 72., 71., 72.],\n",
              "          [71., 72., 71., 72., 71., 72.],\n",
              "          [71., 72., 71., 72., 71., 72.],\n",
              "          ...,\n",
              "          [71., 72., 71., 72., 71., 72.],\n",
              "          [71., 72., 71., 72., 71., 72.],\n",
              "          [71., 72., 71., 72., 71., 72.]]],\n",
              "\n",
              "\n",
              "        [[[71., 72., 71., 72., 71., 72.],\n",
              "          [71., 72., 71., 72., 71., 72.],\n",
              "          [71., 72., 71., 72., 71., 72.],\n",
              "          ...,\n",
              "          [71., 72., 71., 72., 71., 72.],\n",
              "          [71., 72., 71., 72., 71., 72.],\n",
              "          [71., 72., 71., 72., 71., 72.]],\n",
              "\n",
              "         [[71., 72., 71., 72., 71., 72.],\n",
              "          [71., 72., 71., 72., 71., 72.],\n",
              "          [71., 72., 71., 72., 71., 72.],\n",
              "          ...,\n",
              "          [71., 72., 71., 72., 71., 72.],\n",
              "          [71., 72., 71., 72., 71., 72.],\n",
              "          [71., 72., 71., 72., 71., 72.]],\n",
              "\n",
              "         [[71., 72., 71., 72., 71., 72.],\n",
              "          [71., 72., 71., 72., 71., 72.],\n",
              "          [71., 72., 71., 72., 71., 72.],\n",
              "          ...,\n",
              "          [71., 72., 71., 72., 71., 72.],\n",
              "          [71., 72., 71., 72., 71., 72.],\n",
              "          [71., 72., 71., 72., 71., 72.]],\n",
              "\n",
              "         ...,\n",
              "\n",
              "         [[71., 72., 71., 72., 71., 72.],\n",
              "          [71., 72., 71., 72., 71., 72.],\n",
              "          [71., 72., 71., 72., 71., 72.],\n",
              "          ...,\n",
              "          [71., 72., 71., 72., 71., 72.],\n",
              "          [71., 72., 71., 72., 71., 72.],\n",
              "          [71., 72., 71., 72., 71., 72.]],\n",
              "\n",
              "         [[71., 72., 71., 72., 71., 72.],\n",
              "          [71., 72., 71., 72., 71., 72.],\n",
              "          [71., 72., 71., 72., 71., 72.],\n",
              "          ...,\n",
              "          [71., 72., 71., 72., 71., 72.],\n",
              "          [71., 72., 71., 72., 71., 72.],\n",
              "          [71., 72., 71., 72., 71., 72.]],\n",
              "\n",
              "         [[71., 72., 71., 72., 71., 72.],\n",
              "          [71., 72., 71., 72., 71., 72.],\n",
              "          [71., 72., 71., 72., 71., 72.],\n",
              "          ...,\n",
              "          [71., 72., 71., 72., 71., 72.],\n",
              "          [71., 72., 71., 72., 71., 72.],\n",
              "          [71., 72., 71., 72., 71., 72.]]],\n",
              "\n",
              "\n",
              "        [[[71., 72., 71., 72., 71., 72.],\n",
              "          [71., 72., 71., 72., 71., 72.],\n",
              "          [71., 72., 71., 72., 71., 72.],\n",
              "          ...,\n",
              "          [71., 72., 71., 72., 71., 72.],\n",
              "          [71., 72., 71., 72., 71., 72.],\n",
              "          [71., 72., 71., 72., 71., 72.]],\n",
              "\n",
              "         [[71., 72., 71., 72., 71., 72.],\n",
              "          [71., 72., 71., 72., 71., 72.],\n",
              "          [71., 72., 71., 72., 71., 72.],\n",
              "          ...,\n",
              "          [71., 72., 71., 72., 71., 72.],\n",
              "          [71., 72., 71., 72., 71., 72.],\n",
              "          [71., 72., 71., 72., 71., 72.]],\n",
              "\n",
              "         [[71., 72., 71., 72., 71., 72.],\n",
              "          [71., 72., 71., 72., 71., 72.],\n",
              "          [71., 72., 71., 72., 71., 72.],\n",
              "          ...,\n",
              "          [71., 72., 71., 72., 71., 72.],\n",
              "          [71., 72., 71., 72., 71., 72.],\n",
              "          [71., 72., 71., 72., 71., 72.]],\n",
              "\n",
              "         ...,\n",
              "\n",
              "         [[71., 72., 71., 72., 71., 72.],\n",
              "          [71., 72., 71., 72., 71., 72.],\n",
              "          [71., 72., 71., 72., 71., 72.],\n",
              "          ...,\n",
              "          [71., 72., 71., 72., 71., 72.],\n",
              "          [71., 72., 71., 72., 71., 72.],\n",
              "          [71., 72., 71., 72., 71., 72.]],\n",
              "\n",
              "         [[71., 72., 71., 72., 71., 72.],\n",
              "          [71., 72., 71., 72., 71., 72.],\n",
              "          [71., 72., 71., 72., 71., 72.],\n",
              "          ...,\n",
              "          [71., 72., 71., 72., 71., 72.],\n",
              "          [71., 72., 71., 72., 71., 72.],\n",
              "          [71., 72., 71., 72., 71., 72.]],\n",
              "\n",
              "         [[71., 72., 71., 72., 71., 72.],\n",
              "          [71., 72., 71., 72., 71., 72.],\n",
              "          [71., 72., 71., 72., 71., 72.],\n",
              "          ...,\n",
              "          [71., 72., 71., 72., 71., 72.],\n",
              "          [71., 72., 71., 72., 71., 72.],\n",
              "          [71., 72., 71., 72., 71., 72.]]],\n",
              "\n",
              "\n",
              "        ...,\n",
              "\n",
              "\n",
              "        [[[71., 72., 71., 72., 71., 72.],\n",
              "          [71., 72., 71., 72., 71., 72.],\n",
              "          [71., 72., 71., 72., 71., 72.],\n",
              "          ...,\n",
              "          [71., 72., 71., 72., 71., 72.],\n",
              "          [71., 72., 71., 72., 71., 72.],\n",
              "          [71., 72., 71., 72., 71., 72.]],\n",
              "\n",
              "         [[71., 72., 71., 72., 71., 72.],\n",
              "          [71., 72., 71., 72., 71., 72.],\n",
              "          [71., 72., 71., 72., 71., 72.],\n",
              "          ...,\n",
              "          [71., 72., 71., 72., 71., 72.],\n",
              "          [71., 72., 71., 72., 71., 72.],\n",
              "          [71., 72., 71., 72., 71., 72.]],\n",
              "\n",
              "         [[71., 72., 71., 72., 71., 72.],\n",
              "          [71., 72., 71., 72., 71., 72.],\n",
              "          [71., 72., 71., 72., 71., 72.],\n",
              "          ...,\n",
              "          [71., 72., 71., 72., 71., 72.],\n",
              "          [71., 72., 71., 72., 71., 72.],\n",
              "          [71., 72., 71., 72., 71., 72.]],\n",
              "\n",
              "         ...,\n",
              "\n",
              "         [[71., 72., 71., 72., 71., 72.],\n",
              "          [71., 72., 71., 72., 71., 72.],\n",
              "          [71., 72., 71., 72., 71., 72.],\n",
              "          ...,\n",
              "          [71., 72., 71., 72., 71., 72.],\n",
              "          [71., 72., 71., 72., 71., 72.],\n",
              "          [71., 72., 71., 72., 71., 72.]],\n",
              "\n",
              "         [[71., 72., 71., 72., 71., 72.],\n",
              "          [71., 72., 71., 72., 71., 72.],\n",
              "          [71., 72., 71., 72., 71., 72.],\n",
              "          ...,\n",
              "          [71., 72., 71., 72., 71., 72.],\n",
              "          [71., 72., 71., 72., 71., 72.],\n",
              "          [71., 72., 71., 72., 71., 72.]],\n",
              "\n",
              "         [[71., 72., 71., 72., 71., 72.],\n",
              "          [71., 72., 71., 72., 71., 72.],\n",
              "          [71., 72., 71., 72., 71., 72.],\n",
              "          ...,\n",
              "          [71., 72., 71., 72., 71., 72.],\n",
              "          [71., 72., 71., 72., 71., 72.],\n",
              "          [71., 72., 71., 72., 71., 72.]]],\n",
              "\n",
              "\n",
              "        [[[71., 72., 71., 72., 71., 72.],\n",
              "          [71., 72., 71., 72., 71., 72.],\n",
              "          [71., 72., 71., 72., 71., 72.],\n",
              "          ...,\n",
              "          [71., 72., 71., 72., 71., 72.],\n",
              "          [71., 72., 71., 72., 71., 72.],\n",
              "          [71., 72., 71., 72., 71., 72.]],\n",
              "\n",
              "         [[71., 72., 71., 72., 71., 72.],\n",
              "          [71., 72., 71., 72., 71., 72.],\n",
              "          [71., 72., 71., 72., 71., 72.],\n",
              "          ...,\n",
              "          [71., 72., 71., 72., 71., 72.],\n",
              "          [71., 72., 71., 72., 71., 72.],\n",
              "          [71., 72., 71., 72., 71., 72.]],\n",
              "\n",
              "         [[71., 72., 71., 72., 71., 72.],\n",
              "          [71., 72., 71., 72., 71., 72.],\n",
              "          [71., 72., 71., 72., 71., 72.],\n",
              "          ...,\n",
              "          [71., 72., 71., 72., 71., 72.],\n",
              "          [71., 72., 71., 72., 71., 72.],\n",
              "          [71., 72., 71., 72., 71., 72.]],\n",
              "\n",
              "         ...,\n",
              "\n",
              "         [[71., 72., 71., 72., 71., 72.],\n",
              "          [71., 72., 71., 72., 71., 72.],\n",
              "          [71., 72., 71., 72., 71., 72.],\n",
              "          ...,\n",
              "          [71., 72., 71., 72., 71., 72.],\n",
              "          [71., 72., 71., 72., 71., 72.],\n",
              "          [71., 72., 71., 72., 71., 72.]],\n",
              "\n",
              "         [[71., 72., 71., 72., 71., 72.],\n",
              "          [71., 72., 71., 72., 71., 72.],\n",
              "          [71., 72., 71., 72., 71., 72.],\n",
              "          ...,\n",
              "          [71., 72., 71., 72., 71., 72.],\n",
              "          [71., 72., 71., 72., 71., 72.],\n",
              "          [71., 72., 71., 72., 71., 72.]],\n",
              "\n",
              "         [[71., 72., 71., 72., 71., 72.],\n",
              "          [71., 72., 71., 72., 71., 72.],\n",
              "          [71., 72., 71., 72., 71., 72.],\n",
              "          ...,\n",
              "          [71., 72., 71., 72., 71., 72.],\n",
              "          [71., 72., 71., 72., 71., 72.],\n",
              "          [71., 72., 71., 72., 71., 72.]]],\n",
              "\n",
              "\n",
              "        [[[71., 72., 71., 72., 71., 72.],\n",
              "          [71., 72., 71., 72., 71., 72.],\n",
              "          [71., 72., 71., 72., 71., 72.],\n",
              "          ...,\n",
              "          [71., 72., 71., 72., 71., 72.],\n",
              "          [71., 72., 71., 72., 71., 72.],\n",
              "          [71., 72., 71., 72., 71., 72.]],\n",
              "\n",
              "         [[71., 72., 71., 72., 71., 72.],\n",
              "          [71., 72., 71., 72., 71., 72.],\n",
              "          [71., 72., 71., 72., 71., 72.],\n",
              "          ...,\n",
              "          [71., 72., 71., 72., 71., 72.],\n",
              "          [71., 72., 71., 72., 71., 72.],\n",
              "          [71., 72., 71., 72., 71., 72.]],\n",
              "\n",
              "         [[71., 72., 71., 72., 71., 72.],\n",
              "          [71., 72., 71., 72., 71., 72.],\n",
              "          [71., 72., 71., 72., 71., 72.],\n",
              "          ...,\n",
              "          [71., 72., 71., 72., 71., 72.],\n",
              "          [71., 72., 71., 72., 71., 72.],\n",
              "          [71., 72., 71., 72., 71., 72.]],\n",
              "\n",
              "         ...,\n",
              "\n",
              "         [[71., 72., 71., 72., 71., 72.],\n",
              "          [71., 72., 71., 72., 71., 72.],\n",
              "          [71., 72., 71., 72., 71., 72.],\n",
              "          ...,\n",
              "          [71., 72., 71., 72., 71., 72.],\n",
              "          [71., 72., 71., 72., 71., 72.],\n",
              "          [71., 72., 71., 72., 71., 72.]],\n",
              "\n",
              "         [[71., 72., 71., 72., 71., 72.],\n",
              "          [71., 72., 71., 72., 71., 72.],\n",
              "          [71., 72., 71., 72., 71., 72.],\n",
              "          ...,\n",
              "          [71., 72., 71., 72., 71., 72.],\n",
              "          [71., 72., 71., 72., 71., 72.],\n",
              "          [71., 72., 71., 72., 71., 72.]],\n",
              "\n",
              "         [[71., 72., 71., 72., 71., 72.],\n",
              "          [71., 72., 71., 72., 71., 72.],\n",
              "          [71., 72., 71., 72., 71., 72.],\n",
              "          ...,\n",
              "          [71., 72., 71., 72., 71., 72.],\n",
              "          [71., 72., 71., 72., 71., 72.],\n",
              "          [71., 72., 71., 72., 71., 72.]]]],\n",
              "\n",
              "\n",
              "\n",
              "       [[[[71., 72., 71., 72., 71., 72.],\n",
              "          [71., 72., 71., 72., 71., 72.],\n",
              "          [71., 72., 71., 72., 71., 72.],\n",
              "          ...,\n",
              "          [71., 72., 71., 72., 71., 72.],\n",
              "          [71., 72., 71., 72., 71., 72.],\n",
              "          [71., 72., 71., 72., 71., 72.]],\n",
              "\n",
              "         [[71., 72., 71., 72., 71., 72.],\n",
              "          [71., 72., 71., 72., 71., 72.],\n",
              "          [71., 72., 71., 72., 71., 72.],\n",
              "          ...,\n",
              "          [71., 72., 71., 72., 71., 72.],\n",
              "          [71., 72., 71., 72., 71., 72.],\n",
              "          [71., 72., 71., 72., 71., 72.]],\n",
              "\n",
              "         [[71., 72., 71., 72., 71., 72.],\n",
              "          [71., 72., 71., 72., 71., 72.],\n",
              "          [71., 72., 71., 72., 71., 72.],\n",
              "          ...,\n",
              "          [71., 72., 71., 72., 71., 72.],\n",
              "          [71., 72., 71., 72., 71., 72.],\n",
              "          [71., 72., 71., 72., 71., 72.]],\n",
              "\n",
              "         ...,\n",
              "\n",
              "         [[71., 72., 71., 72., 71., 72.],\n",
              "          [71., 72., 71., 72., 71., 72.],\n",
              "          [71., 72., 71., 72., 71., 72.],\n",
              "          ...,\n",
              "          [71., 72., 71., 72., 71., 72.],\n",
              "          [71., 72., 71., 72., 71., 72.],\n",
              "          [71., 72., 71., 72., 71., 72.]],\n",
              "\n",
              "         [[71., 72., 71., 72., 71., 72.],\n",
              "          [71., 72., 71., 72., 71., 72.],\n",
              "          [71., 72., 71., 72., 71., 72.],\n",
              "          ...,\n",
              "          [71., 72., 71., 72., 71., 72.],\n",
              "          [71., 72., 71., 72., 71., 72.],\n",
              "          [71., 72., 71., 72., 71., 72.]],\n",
              "\n",
              "         [[71., 72., 71., 72., 71., 72.],\n",
              "          [71., 72., 71., 72., 71., 72.],\n",
              "          [71., 72., 71., 72., 71., 72.],\n",
              "          ...,\n",
              "          [71., 72., 71., 72., 71., 72.],\n",
              "          [71., 72., 71., 72., 71., 72.],\n",
              "          [71., 72., 71., 72., 71., 72.]]],\n",
              "\n",
              "\n",
              "        [[[71., 72., 71., 72., 71., 72.],\n",
              "          [71., 72., 71., 72., 71., 72.],\n",
              "          [71., 72., 71., 72., 71., 72.],\n",
              "          ...,\n",
              "          [71., 72., 71., 72., 71., 72.],\n",
              "          [71., 72., 71., 72., 71., 72.],\n",
              "          [71., 72., 71., 72., 71., 72.]],\n",
              "\n",
              "         [[71., 72., 71., 72., 71., 72.],\n",
              "          [71., 72., 71., 72., 71., 72.],\n",
              "          [71., 72., 71., 72., 71., 72.],\n",
              "          ...,\n",
              "          [71., 72., 71., 72., 71., 72.],\n",
              "          [71., 72., 71., 72., 71., 72.],\n",
              "          [71., 72., 71., 72., 71., 72.]],\n",
              "\n",
              "         [[71., 72., 71., 72., 71., 72.],\n",
              "          [71., 72., 71., 72., 71., 72.],\n",
              "          [71., 72., 71., 72., 71., 72.],\n",
              "          ...,\n",
              "          [71., 72., 71., 72., 71., 72.],\n",
              "          [71., 72., 71., 72., 71., 72.],\n",
              "          [71., 72., 71., 72., 71., 72.]],\n",
              "\n",
              "         ...,\n",
              "\n",
              "         [[71., 72., 71., 72., 71., 72.],\n",
              "          [71., 72., 71., 72., 71., 72.],\n",
              "          [71., 72., 71., 72., 71., 72.],\n",
              "          ...,\n",
              "          [71., 72., 71., 72., 71., 72.],\n",
              "          [71., 72., 71., 72., 71., 72.],\n",
              "          [71., 72., 71., 72., 71., 72.]],\n",
              "\n",
              "         [[71., 72., 71., 72., 71., 72.],\n",
              "          [71., 72., 71., 72., 71., 72.],\n",
              "          [71., 72., 71., 72., 71., 72.],\n",
              "          ...,\n",
              "          [71., 72., 71., 72., 71., 72.],\n",
              "          [71., 72., 71., 72., 71., 72.],\n",
              "          [71., 72., 71., 72., 71., 72.]],\n",
              "\n",
              "         [[71., 72., 71., 72., 71., 72.],\n",
              "          [71., 72., 71., 72., 71., 72.],\n",
              "          [71., 72., 71., 72., 71., 72.],\n",
              "          ...,\n",
              "          [71., 72., 71., 72., 71., 72.],\n",
              "          [71., 72., 71., 72., 71., 72.],\n",
              "          [71., 72., 71., 72., 71., 72.]]],\n",
              "\n",
              "\n",
              "        [[[71., 72., 71., 72., 71., 72.],\n",
              "          [71., 72., 71., 72., 71., 72.],\n",
              "          [71., 72., 71., 72., 71., 72.],\n",
              "          ...,\n",
              "          [71., 72., 71., 72., 71., 72.],\n",
              "          [71., 72., 71., 72., 71., 72.],\n",
              "          [71., 72., 71., 72., 71., 72.]],\n",
              "\n",
              "         [[71., 72., 71., 72., 71., 72.],\n",
              "          [71., 72., 71., 72., 71., 72.],\n",
              "          [71., 72., 71., 72., 71., 72.],\n",
              "          ...,\n",
              "          [71., 72., 71., 72., 71., 72.],\n",
              "          [71., 72., 71., 72., 71., 72.],\n",
              "          [71., 72., 71., 72., 71., 72.]],\n",
              "\n",
              "         [[71., 72., 71., 72., 71., 72.],\n",
              "          [71., 72., 71., 72., 71., 72.],\n",
              "          [71., 72., 71., 72., 71., 72.],\n",
              "          ...,\n",
              "          [71., 72., 71., 72., 71., 72.],\n",
              "          [71., 72., 71., 72., 71., 72.],\n",
              "          [71., 72., 71., 72., 71., 72.]],\n",
              "\n",
              "         ...,\n",
              "\n",
              "         [[71., 72., 71., 72., 71., 72.],\n",
              "          [71., 72., 71., 72., 71., 72.],\n",
              "          [71., 72., 71., 72., 71., 72.],\n",
              "          ...,\n",
              "          [71., 72., 71., 72., 71., 72.],\n",
              "          [71., 72., 71., 72., 71., 72.],\n",
              "          [71., 72., 71., 72., 71., 72.]],\n",
              "\n",
              "         [[71., 72., 71., 72., 71., 72.],\n",
              "          [71., 72., 71., 72., 71., 72.],\n",
              "          [71., 72., 71., 72., 71., 72.],\n",
              "          ...,\n",
              "          [71., 72., 71., 72., 71., 72.],\n",
              "          [71., 72., 71., 72., 71., 72.],\n",
              "          [71., 72., 71., 72., 71., 72.]],\n",
              "\n",
              "         [[71., 72., 71., 72., 71., 72.],\n",
              "          [71., 72., 71., 72., 71., 72.],\n",
              "          [71., 72., 71., 72., 71., 72.],\n",
              "          ...,\n",
              "          [71., 72., 71., 72., 71., 72.],\n",
              "          [71., 72., 71., 72., 71., 72.],\n",
              "          [71., 72., 71., 72., 71., 72.]]],\n",
              "\n",
              "\n",
              "        ...,\n",
              "\n",
              "\n",
              "        [[[71., 72., 71., 72., 71., 72.],\n",
              "          [71., 72., 71., 72., 71., 72.],\n",
              "          [71., 72., 71., 72., 71., 72.],\n",
              "          ...,\n",
              "          [71., 72., 71., 72., 71., 72.],\n",
              "          [71., 72., 71., 72., 71., 72.],\n",
              "          [71., 72., 71., 72., 71., 72.]],\n",
              "\n",
              "         [[71., 72., 71., 72., 71., 72.],\n",
              "          [71., 72., 71., 72., 71., 72.],\n",
              "          [71., 72., 71., 72., 71., 72.],\n",
              "          ...,\n",
              "          [71., 72., 71., 72., 71., 72.],\n",
              "          [71., 72., 71., 72., 71., 72.],\n",
              "          [71., 72., 71., 72., 71., 72.]],\n",
              "\n",
              "         [[71., 72., 71., 72., 71., 72.],\n",
              "          [71., 72., 71., 72., 71., 72.],\n",
              "          [71., 72., 71., 72., 71., 72.],\n",
              "          ...,\n",
              "          [71., 72., 71., 72., 71., 72.],\n",
              "          [71., 72., 71., 72., 71., 72.],\n",
              "          [71., 72., 71., 72., 71., 72.]],\n",
              "\n",
              "         ...,\n",
              "\n",
              "         [[71., 72., 71., 72., 71., 72.],\n",
              "          [71., 72., 71., 72., 71., 72.],\n",
              "          [71., 72., 71., 72., 71., 72.],\n",
              "          ...,\n",
              "          [71., 72., 71., 72., 71., 72.],\n",
              "          [71., 72., 71., 72., 71., 72.],\n",
              "          [71., 72., 71., 72., 71., 72.]],\n",
              "\n",
              "         [[71., 72., 71., 72., 71., 72.],\n",
              "          [71., 72., 71., 72., 71., 72.],\n",
              "          [71., 72., 71., 72., 71., 72.],\n",
              "          ...,\n",
              "          [71., 72., 71., 72., 71., 72.],\n",
              "          [71., 72., 71., 72., 71., 72.],\n",
              "          [71., 72., 71., 72., 71., 72.]],\n",
              "\n",
              "         [[71., 72., 71., 72., 71., 72.],\n",
              "          [71., 72., 71., 72., 71., 72.],\n",
              "          [71., 72., 71., 72., 71., 72.],\n",
              "          ...,\n",
              "          [71., 72., 71., 72., 71., 72.],\n",
              "          [71., 72., 71., 72., 71., 72.],\n",
              "          [71., 72., 71., 72., 71., 72.]]],\n",
              "\n",
              "\n",
              "        [[[71., 72., 71., 72., 71., 72.],\n",
              "          [71., 72., 71., 72., 71., 72.],\n",
              "          [71., 72., 71., 72., 71., 72.],\n",
              "          ...,\n",
              "          [71., 72., 71., 72., 71., 72.],\n",
              "          [71., 72., 71., 72., 71., 72.],\n",
              "          [71., 72., 71., 72., 71., 72.]],\n",
              "\n",
              "         [[71., 72., 71., 72., 71., 72.],\n",
              "          [71., 72., 71., 72., 71., 72.],\n",
              "          [71., 72., 71., 72., 71., 72.],\n",
              "          ...,\n",
              "          [71., 72., 71., 72., 71., 72.],\n",
              "          [71., 72., 71., 72., 71., 72.],\n",
              "          [71., 72., 71., 72., 71., 72.]],\n",
              "\n",
              "         [[71., 72., 71., 72., 71., 72.],\n",
              "          [71., 72., 71., 72., 71., 72.],\n",
              "          [71., 72., 71., 72., 71., 72.],\n",
              "          ...,\n",
              "          [71., 72., 71., 72., 71., 72.],\n",
              "          [71., 72., 71., 72., 71., 72.],\n",
              "          [71., 72., 71., 72., 71., 72.]],\n",
              "\n",
              "         ...,\n",
              "\n",
              "         [[71., 72., 71., 72., 71., 72.],\n",
              "          [71., 72., 71., 72., 71., 72.],\n",
              "          [71., 72., 71., 72., 71., 72.],\n",
              "          ...,\n",
              "          [71., 72., 71., 72., 71., 72.],\n",
              "          [71., 72., 71., 72., 71., 72.],\n",
              "          [71., 72., 71., 72., 71., 72.]],\n",
              "\n",
              "         [[71., 72., 71., 72., 71., 72.],\n",
              "          [71., 72., 71., 72., 71., 72.],\n",
              "          [71., 72., 71., 72., 71., 72.],\n",
              "          ...,\n",
              "          [71., 72., 71., 72., 71., 72.],\n",
              "          [71., 72., 71., 72., 71., 72.],\n",
              "          [71., 72., 71., 72., 71., 72.]],\n",
              "\n",
              "         [[71., 72., 71., 72., 71., 72.],\n",
              "          [71., 72., 71., 72., 71., 72.],\n",
              "          [71., 72., 71., 72., 71., 72.],\n",
              "          ...,\n",
              "          [71., 72., 71., 72., 71., 72.],\n",
              "          [71., 72., 71., 72., 71., 72.],\n",
              "          [71., 72., 71., 72., 71., 72.]]],\n",
              "\n",
              "\n",
              "        [[[71., 72., 71., 72., 71., 72.],\n",
              "          [71., 72., 71., 72., 71., 72.],\n",
              "          [71., 72., 71., 72., 71., 72.],\n",
              "          ...,\n",
              "          [71., 72., 71., 72., 71., 72.],\n",
              "          [71., 72., 71., 72., 71., 72.],\n",
              "          [71., 72., 71., 72., 71., 72.]],\n",
              "\n",
              "         [[71., 72., 71., 72., 71., 72.],\n",
              "          [71., 72., 71., 72., 71., 72.],\n",
              "          [71., 72., 71., 72., 71., 72.],\n",
              "          ...,\n",
              "          [71., 72., 71., 72., 71., 72.],\n",
              "          [71., 72., 71., 72., 71., 72.],\n",
              "          [71., 72., 71., 72., 71., 72.]],\n",
              "\n",
              "         [[71., 72., 71., 72., 71., 72.],\n",
              "          [71., 72., 71., 72., 71., 72.],\n",
              "          [71., 72., 71., 72., 71., 72.],\n",
              "          ...,\n",
              "          [71., 72., 71., 72., 71., 72.],\n",
              "          [71., 72., 71., 72., 71., 72.],\n",
              "          [71., 72., 71., 72., 71., 72.]],\n",
              "\n",
              "         ...,\n",
              "\n",
              "         [[71., 72., 71., 72., 71., 72.],\n",
              "          [71., 72., 71., 72., 71., 72.],\n",
              "          [71., 72., 71., 72., 71., 72.],\n",
              "          ...,\n",
              "          [71., 72., 71., 72., 71., 72.],\n",
              "          [71., 72., 71., 72., 71., 72.],\n",
              "          [71., 72., 71., 72., 71., 72.]],\n",
              "\n",
              "         [[71., 72., 71., 72., 71., 72.],\n",
              "          [71., 72., 71., 72., 71., 72.],\n",
              "          [71., 72., 71., 72., 71., 72.],\n",
              "          ...,\n",
              "          [71., 72., 71., 72., 71., 72.],\n",
              "          [71., 72., 71., 72., 71., 72.],\n",
              "          [71., 72., 71., 72., 71., 72.]],\n",
              "\n",
              "         [[71., 72., 71., 72., 71., 72.],\n",
              "          [71., 72., 71., 72., 71., 72.],\n",
              "          [71., 72., 71., 72., 71., 72.],\n",
              "          ...,\n",
              "          [71., 72., 71., 72., 71., 72.],\n",
              "          [71., 72., 71., 72., 71., 72.],\n",
              "          [71., 72., 71., 72., 71., 72.]]]]])"
            ]
          },
          "metadata": {},
          "execution_count": 7
        }
      ]
    }
  ]
}